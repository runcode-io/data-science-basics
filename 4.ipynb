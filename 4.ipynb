{
 "cells": [
  {
   "cell_type": "markdown",
   "id": "6aee9582-abe1-45ad-aa0e-e66544c124ea",
   "metadata": {},
   "source": [
    "# Types of Machine learning approaches"
   ]
  },
  {
   "cell_type": "markdown",
   "id": "9f2b59e1-30e0-4f93-aa51-4e5e9d7d13af",
   "metadata": {},
   "source": [
    "![Image of runcode](https://www.researchgate.net/publication/354960266/figure/fig1/AS:1075175843983363@1633353305883/The-main-types-of-machine-learning-Main-approaches-include-classification-and.png)"
   ]
  },
  {
   "cell_type": "markdown",
   "id": "f6c3a417-1293-4996-8cd5-b4407ff6477f",
   "metadata": {},
   "source": [
    "There are several different types of machine learning approaches, which can broadly be classified into three main categories: supervised learning, unsupervised learning, and reinforcement learning. Here is a brief overview of each type, along with some examples:"
   ]
  },
  {
   "cell_type": "markdown",
   "id": "e73d7b64-bccb-46ad-a7c5-6c3b1a3d1783",
   "metadata": {},
   "source": [
    "1. <b>Supervised learning:</b> In supervised learning, the model is trained on labeled data, where the correct output is provided for each example in the training set. The goal is to make predictions about new, unseen examples by learning the patterns in the training data. Examples of supervised learning include:"
   ]
  },
  {
   "cell_type": "markdown",
   "id": "22031f6b-9db3-4d24-8aff-05916ed64ede",
   "metadata": {},
   "source": [
    "* Regression: Predicting a continuous value, such as the price of a house given its features (e.g., number of bedrooms, square footage, location).\n",
    "\n",
    "* Classification: Predicting a categorical value, such as the type of fruit in an image (e.g., apple, orange, banana)."
   ]
  },
  {
   "cell_type": "markdown",
   "id": "b90dd880-973b-4ef2-bb3b-462c9bb1a89c",
   "metadata": {},
   "source": [
    "Some common types of supervised learning algorithms include:"
   ]
  },
  {
   "cell_type": "markdown",
   "id": "35f7540a-3799-4d85-9721-40254ae38435",
   "metadata": {},
   "source": [
    "* Linear regression: Used for predicting a continuous value, such as the price of a house based on its features (e.g., number of bedrooms, square footage, location).\n",
    "\n",
    "* Logistic regression: Used for predicting a binary outcome (e.g., whether a customer will churn or not).\n",
    "\n",
    "* Decision trees: Used for making predictions based on a series of decisions based on the values of the input features.\n",
    "\n",
    "* Support vector machines (SVMs): Used for classification tasks, SVMs try to find the hyperplane in a high-dimensional space that maximally separates the different classes."
   ]
  },
  {
   "cell_type": "markdown",
   "id": "f0733a22-bc35-4d70-a8f9-8bd9e6391267",
   "metadata": {},
   "source": [
    "2. <b>Unsupervised learning:</b> In unsupervised learning, the model is not provided with labeled training examples. Instead, it must discover the underlying structure of the data through techniques such as clustering. Examples of unsupervised learning include:"
   ]
  },
  {
   "cell_type": "markdown",
   "id": "a477f4ac-b4ff-4fbb-bea4-84a60e4e155f",
   "metadata": {},
   "source": [
    "* Clustering: Dividing a dataset into groups (or \"clusters\") based on similarities within the data.\n",
    "\n",
    "* Anomaly detection: Identifying unusual examples in a dataset, such as fraudulent transactions in a financial dataset."
   ]
  },
  {
   "cell_type": "markdown",
   "id": "b85c2554-ed5f-4a83-95eb-5a918119c838",
   "metadata": {},
   "source": [
    "Some common types of unsupervised learning algorithms include:"
   ]
  },
  {
   "cell_type": "markdown",
   "id": "9fbb340a-b1f5-4f15-9422-13a0e3fc64a8",
   "metadata": {},
   "source": [
    "* K-means clustering: Used for dividing a dataset into a specified number of clusters based on similarities within the data.\n",
    "\n",
    "* Hierarchical clustering: Used for building a hierarchy of clusters, where each cluster is divided into smaller subclusters.\n",
    "\n",
    "* Anomaly detection: Used for identifying unusual examples in a dataset, such as fraudulent transactions in a financial dataset."
   ]
  },
  {
   "cell_type": "markdown",
   "id": "0545ae85-26ed-4818-a1eb-f7671b2ad431",
   "metadata": {},
   "source": [
    "3. <b>Reinforcement learning:</b> In reinforcement learning, an agent learns to interact with its environment in order to maximize a reward. This involves learning a policy that maps states of the environment to actions to take. Examples of reinforcement learning include:"
   ]
  },
  {
   "cell_type": "markdown",
   "id": "01b29123-3255-4fb1-95d8-4b2cdfe2626e",
   "metadata": {},
   "source": [
    "* Game playing: An AI that learns to play a game by trying different actions and receiving rewards or penalties.\n",
    "\n",
    "* Robotics: A robot that learns to navigate through an environment by trying different actions and receiving rewards or penalties based on its success at reaching a goal."
   ]
  },
  {
   "cell_type": "markdown",
   "id": "dcb07acf-5aaa-4e06-92a2-91065c2af181",
   "metadata": {},
   "source": [
    "Some examples of reinforcement learning algorithms include:"
   ]
  },
  {
   "cell_type": "markdown",
   "id": "a83d7acb-bc9f-46be-ab3c-e051d14c8970",
   "metadata": {},
   "source": [
    "* Q-learning: An algorithm that learns the optimal action to take at each step by estimating the expected future reward for each action.\n",
    "\n",
    "* Deep Q-learning: An extension of Q-learning that uses a neural network to approximate the Q-value function."
   ]
  },
  {
   "cell_type": "markdown",
   "id": "681b38ef-4c8f-4a59-ab87-212d06720a58",
   "metadata": {},
   "source": [
    "There are many libraries and frameworks in Python that can be used for machine learning, such as scikit-learn, TensorFlow, and Keras. These libraries provide a wide range of tools and functions for implementing and experimenting with different machine learning algorithms and techniques."
   ]
  },
  {
   "cell_type": "markdown",
   "id": "517236ca-1c47-47b5-9cbc-0f3f207441ca",
   "metadata": {},
   "source": [
    "## Parametric and Non-Parametric machine learning"
   ]
  },
  {
   "cell_type": "markdown",
   "id": "490ef10f-1e71-4918-bcae-243fdac59698",
   "metadata": {},
   "source": [
    "In machine learning, parametric models are models that have a fixed number of parameters, and the model structure is determined beforehand. The parameters of the model are learned from the training data, and the model makes predictions based on these learned parameters.\n",
    "\n",
    "Examples of parametric models include linear regression, logistic regression, and support vector machines.\n",
    "\n",
    "On the other hand, non-parametric models do not have a fixed number of parameters, and the model structure is not determined beforehand. These models are more flexible and can adapt to the complexity of the data, but they may require more data to learn from.\n",
    "\n",
    "Examples of non-parametric models include decision trees, k-nearest neighbors, and Gaussian mixture models.\n",
    "\n",
    "Parametric models are generally faster to train and predict with, and they tend to perform well when the data follows a known structure. Non-parametric models are more flexible and can capture more complex patterns in the data, but they may be slower to train and predict with, and they may require more data to learn from.\n",
    "\n",
    "The choice between parametric and non-parametric models depends on the nature of the problem and the available data. In general, it is a good idea to try both types of models and compare their performance to choose the best model for a given problem."
   ]
  }
 ],
 "metadata": {
  "kernelspec": {
   "display_name": "Python 3 (ipykernel)",
   "language": "python",
   "name": "python3"
  },
  "language_info": {
   "codemirror_mode": {
    "name": "ipython",
    "version": 3
   },
   "file_extension": ".py",
   "mimetype": "text/x-python",
   "name": "python",
   "nbconvert_exporter": "python",
   "pygments_lexer": "ipython3",
   "version": "3.8.10"
  }
 },
 "nbformat": 4,
 "nbformat_minor": 5
}
