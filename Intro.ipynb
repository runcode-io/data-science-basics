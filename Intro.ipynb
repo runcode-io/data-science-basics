{
 "cells": [
  {
   "cell_type": "markdown",
   "id": "bbab6895-de1b-4478-aae9-cebde9f0c553",
   "metadata": {},
   "source": [
    "# <span style=\"color:green\">Data Science</span>"
   ]
  },
  {
   "cell_type": "markdown",
   "id": "a03d228b-7fc0-416e-b49a-806336f043c7",
   "metadata": {},
   "source": [
    "Welcome to data science tutorial to learn and practice using our jupyter lab"
   ]
  },
  {
   "cell_type": "markdown",
   "id": "bcdc6398-d245-40e1-9145-6003c8ba394c",
   "metadata": {},
   "source": [
    "## <span style=\"color:blue\">What is data science?</span>"
   ]
  },
  {
   "cell_type": "markdown",
   "id": "afd91cd7-8fba-4924-9a29-89224abbcec5",
   "metadata": {},
   "source": [
    "<b>Data science</b> is a field that uses scientific methods, processes, algorithms and systems to extract knowledge and insights from structured and unstructured data. It is a multi-disciplinary field that combines domain expertise, programming skills, and knowledge of statistical and mathematical concepts and techniques to analyze and interpret data. Data science is concerned with using data to answer questions and solve problems, and it involves the collection, cleaning, and processing of data, as well as the development of algorithms and models to analyze and interpret the data. The goal of data science is to extract insights and knowledge from data that can be used to inform decisions and improve outcomes."
   ]
  },
  {
   "cell_type": "markdown",
   "id": "8ba1b1b3-6f73-4c6f-bcdf-1ddae7614c8c",
   "metadata": {},
   "source": [
    "Let's see what is data and its categories"
   ]
  },
  {
   "cell_type": "markdown",
   "id": "c6c680fb-4e62-4057-98b4-86c42159a88f",
   "metadata": {},
   "source": [
    "In data science, data refers to the raw facts and figures that are collected, usually as part of a study or experiment. Data can come from a variety of sources, including surveys, experiments, and observations, and it can be collected in a variety of formats, including numerical values, text, images, and audio and video recordings.\n",
    "\n",
    "There are many ways to categorize data. One of the main categories of data in data science: structured data and unstructured data.\n",
    "\n",
    "<b>Structured data</b> is data that is organized in a specific format, such as a table or spreadsheet. It is easy to analyze and interpret because it is organized in a predictable way. Examples of structured data include data from a database or a CSV file.\n",
    "\n",
    "<b>Unstructured data</b>, on the other hand, is data that is not organized in a specific format. It is more difficult to analyze and interpret because it does not have a predetermined structure. Examples of unstructured data include text documents, images, and audio and video recordings.\n",
    "\n",
    "Data scientists often work with both structured and unstructured data, and they use a variety of tools and techniques to extract insights and knowledge from the data."
   ]
  },
  {
   "cell_type": "markdown",
   "id": "f686d50c-fdcd-414b-b6ee-3962caf90969",
   "metadata": {},
   "source": [
    "As we saw earlier, the goal of data science is to extract insights and knowledge from data that can be used to inform decisions and improve outcomes. In order to do that, we need to follow the process. The following steps involved in a data science project at high level are: "
   ]
  },
  {
   "cell_type": "markdown",
   "id": "2d985447-d458-4f21-b09f-e551e2e312f0",
   "metadata": {},
   "source": [
    "1. Data collection\n",
    "2. Data cleaning and processing\n",
    "3. Exploratory data analysis using visualization\n",
    "4. Feature engineering\n",
    "5. Model selection\n",
    "6. Model training and validation\n",
    "7. Deploying the model"
   ]
  },
  {
   "cell_type": "markdown",
   "id": "7e479221-64c7-4bf2-b0b1-147e600a3c69",
   "metadata": {},
   "source": [
    "In this tutorial, we use python as the programming language. Some of the common libraries used in data science are:\n",
    "\n",
    " * <span style=\"color:red\">Numpy</span> - consisting of multidimensional array objects and a collection of routines for processing of arrays\n",
    "    \n",
    " * <span style=\"color:red\">Pandas</span> - provides fast, flexible, and expressive data structures designed to make working with \"relational\" or \"labeled\" data both easy and intuitive\n",
    "    \n",
    " * <span style=\"color:red\">Matplotlib</span> - library for creating static, animated, and interactive visualizations\n",
    "    \n",
    " * <span style=\"color:red\">Plotly</span> - enables users to create beautiful interactive web-based visualizations\n",
    "    \n",
    " * <span style=\"color:red\">Beautifulsoup</span> - pulling data out of HTML and XML documents that can be used for web scraping\n",
    "    \n",
    " * <span style=\"color:red\">Scikit-learn (sklearn)</span> - most useful and robust library and provides a selection of efficient tools for machine learning and statistical modeling\n",
    "    \n",
    " * <span style=\"color:red\">Tensorflow</span> - library for high performance numerical computation and primarily for deep learning applications\n",
    "\n",
    " * <span style=\"color:red\">Pytorch</span> - open source machine learning library used for developing and training neural network based deep learning models\n",
    "    "
   ]
  },
  {
   "cell_type": "markdown",
   "id": "8e2fdb6c-f8ab-4a54-bdee-8fd1dfb8be38",
   "metadata": {},
   "source": [
    "Topics which you will be learning in this tutorial:"
   ]
  },
  {
   "cell_type": "markdown",
   "id": "1b54daab-9fdf-4b89-a879-a33bfc70235b",
   "metadata": {},
   "source": [
    "<b>\n",
    "\n",
    "1. Data preparation and engineering\n",
    "    \n",
    "2. Data Visualization\n",
    "        \n",
    "3. Statistics and probability\n",
    "    \n",
    "4. Types of Machine learning approaches\n",
    "    \n",
    "5. Supervised Learning\n",
    "    \n",
    "    5.1: Regression\n",
    "\n",
    "    5.2: Classification\n",
    "    \n",
    "6. Unsupervised Learning\n",
    "    \n",
    "7. Model selection and validation\n",
    "    \n",
    "8. Deep Learning</b>"
   ]
  },
  {
   "cell_type": "markdown",
   "id": "6146d763-1948-4eee-a6db-488ea8294705",
   "metadata": {},
   "source": [
    "Each of the above topic will be dealt in detail in subsequent notebooks in this tutorial."
   ]
  }
 ],
 "metadata": {
  "kernelspec": {
   "display_name": "Python 3 (ipykernel)",
   "language": "python",
   "name": "python3"
  },
  "language_info": {
   "codemirror_mode": {
    "name": "ipython",
    "version": 3
   },
   "file_extension": ".py",
   "mimetype": "text/x-python",
   "name": "python",
   "nbconvert_exporter": "python",
   "pygments_lexer": "ipython3",
   "version": "3.8.10"
  }
 },
 "nbformat": 4,
 "nbformat_minor": 5
}
